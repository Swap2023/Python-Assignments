{
 "cells": [
  {
   "cell_type": "markdown",
   "id": "0b813509",
   "metadata": {},
   "source": [
    "# NOV 21 BACTH BASIC PYTON ASSIGNMENT 1"
   ]
  },
  {
   "cell_type": "markdown",
   "id": "d92de621",
   "metadata": {},
   "source": [
    "ANS 1: *  expression\n",
    "'hello' string\n",
    "-87.8 value\n",
    "-  expression\n",
    "/  expression\n",
    "+\tExpression \n",
    "6 value\n"
   ]
  },
  {
   "cell_type": "markdown",
   "id": "10d0befc",
   "metadata": {},
   "source": [
    "ANS 2: VARIABLE is name given to memory location in a program. kind of container to store values.To define a variable we follow \n",
    "    certain rules 1- can ONLY START with alphabet or underscore. 2 Varibale name can contain alphabet. digit,underscore\n",
    "    STRING is datatype in paython . It is eclosed in quotes. '', \"\", \"\"\" \"\"\".\n",
    "    "
   ]
  },
  {
   "cell_type": "markdown",
   "id": "b95d5164",
   "metadata": {},
   "source": [
    "ANS 3: integer, float, strings, booleans, none"
   ]
  },
  {
   "cell_type": "markdown",
   "id": "edef6fae",
   "metadata": {},
   "source": [
    "ANS 4: EXPRESSIONS: it is used to define certain way that perticulet task. it includes operatots and operands.expressions produces \n",
    "        some other value .\n",
    "        arithmatic expression example X=X+10."
   ]
  },
  {
   "cell_type": "markdown",
   "id": "0188c47f",
   "metadata": {},
   "source": [
    "ANS 5: expression calculates or evalutes a value and produces a values while statement also does the same but it \n",
    "    does not do anything then it can be called as statement only.sometime both expression and statement are same. \n",
    "    Depending upon that  current task or scenario.\n",
    "    \n",
    "    "
   ]
  },
  {
   "cell_type": "code",
   "execution_count": null,
   "id": "3d1007d0",
   "metadata": {},
   "outputs": [],
   "source": [
    "ANS 6:23"
   ]
  },
  {
   "cell_type": "markdown",
   "id": "8c85cd78",
   "metadata": {},
   "source": [
    "ANS 7: 'spamspamspam'"
   ]
  },
  {
   "cell_type": "markdown",
   "id": "31656e0b",
   "metadata": {},
   "source": [
    "ANS 8: 100 is invalid becuase valrible name can not start with number"
   ]
  },
  {
   "cell_type": "code",
   "execution_count": null,
   "id": "ff3be250",
   "metadata": {},
   "outputs": [],
   "source": [
    "ANS 9: int(), float(), string()"
   ]
  },
  {
   "cell_type": "code",
   "execution_count": null,
   "id": "6ac2c625",
   "metadata": {},
   "outputs": [],
   "source": [
    "ANS 10: error is typecasting so need to convert 99 to string 'I have eaten ' + '99' + ' burritos.' then o/p 'I have eaten 99 burritos.'"
   ]
  },
  {
   "cell_type": "code",
   "execution_count": null,
   "id": "071cb0fd",
   "metadata": {},
   "outputs": [],
   "source": []
  },
  {
   "cell_type": "code",
   "execution_count": null,
   "id": "48898099",
   "metadata": {},
   "outputs": [],
   "source": []
  },
  {
   "cell_type": "code",
   "execution_count": null,
   "id": "5d708659",
   "metadata": {},
   "outputs": [],
   "source": []
  },
  {
   "cell_type": "code",
   "execution_count": null,
   "id": "fab7a1da",
   "metadata": {},
   "outputs": [],
   "source": []
  },
  {
   "cell_type": "code",
   "execution_count": null,
   "id": "ab3df4b0",
   "metadata": {},
   "outputs": [],
   "source": []
  },
  {
   "cell_type": "code",
   "execution_count": null,
   "id": "dc70527d",
   "metadata": {},
   "outputs": [],
   "source": []
  },
  {
   "cell_type": "code",
   "execution_count": null,
   "id": "3bceece6",
   "metadata": {},
   "outputs": [],
   "source": []
  },
  {
   "cell_type": "code",
   "execution_count": null,
   "id": "2bcb079f",
   "metadata": {},
   "outputs": [],
   "source": []
  },
  {
   "cell_type": "code",
   "execution_count": null,
   "id": "f7425c39",
   "metadata": {},
   "outputs": [],
   "source": []
  },
  {
   "cell_type": "code",
   "execution_count": null,
   "id": "756bf94f",
   "metadata": {},
   "outputs": [],
   "source": []
  },
  {
   "cell_type": "code",
   "execution_count": null,
   "id": "4956bb8e",
   "metadata": {},
   "outputs": [],
   "source": []
  },
  {
   "cell_type": "code",
   "execution_count": null,
   "id": "c109d995",
   "metadata": {},
   "outputs": [],
   "source": []
  },
  {
   "cell_type": "code",
   "execution_count": null,
   "id": "44fa721c",
   "metadata": {},
   "outputs": [],
   "source": []
  },
  {
   "cell_type": "code",
   "execution_count": null,
   "id": "46ba7493",
   "metadata": {},
   "outputs": [],
   "source": []
  },
  {
   "cell_type": "code",
   "execution_count": null,
   "id": "ffda0ee1",
   "metadata": {},
   "outputs": [],
   "source": []
  },
  {
   "cell_type": "code",
   "execution_count": null,
   "id": "453e0a47",
   "metadata": {},
   "outputs": [],
   "source": []
  },
  {
   "cell_type": "code",
   "execution_count": null,
   "id": "fa2cdf5f",
   "metadata": {},
   "outputs": [],
   "source": []
  },
  {
   "cell_type": "code",
   "execution_count": null,
   "id": "208130ca",
   "metadata": {},
   "outputs": [],
   "source": []
  },
  {
   "cell_type": "code",
   "execution_count": null,
   "id": "966511c1",
   "metadata": {},
   "outputs": [],
   "source": []
  },
  {
   "cell_type": "code",
   "execution_count": null,
   "id": "01acc4d8",
   "metadata": {},
   "outputs": [],
   "source": []
  },
  {
   "cell_type": "code",
   "execution_count": null,
   "id": "64f058f1",
   "metadata": {},
   "outputs": [],
   "source": []
  },
  {
   "cell_type": "code",
   "execution_count": null,
   "id": "502086b5",
   "metadata": {},
   "outputs": [],
   "source": []
  },
  {
   "cell_type": "code",
   "execution_count": null,
   "id": "4340631b",
   "metadata": {},
   "outputs": [],
   "source": []
  },
  {
   "cell_type": "code",
   "execution_count": null,
   "id": "77bbb60e",
   "metadata": {},
   "outputs": [],
   "source": []
  },
  {
   "cell_type": "code",
   "execution_count": null,
   "id": "edd17b4e",
   "metadata": {},
   "outputs": [],
   "source": []
  },
  {
   "cell_type": "code",
   "execution_count": null,
   "id": "8e680982",
   "metadata": {},
   "outputs": [],
   "source": []
  },
  {
   "cell_type": "code",
   "execution_count": null,
   "id": "cf94511f",
   "metadata": {},
   "outputs": [],
   "source": []
  },
  {
   "cell_type": "code",
   "execution_count": null,
   "id": "a6a13f11",
   "metadata": {},
   "outputs": [],
   "source": []
  },
  {
   "cell_type": "code",
   "execution_count": null,
   "id": "1cea8b21",
   "metadata": {},
   "outputs": [],
   "source": []
  },
  {
   "cell_type": "code",
   "execution_count": null,
   "id": "00daa955",
   "metadata": {},
   "outputs": [],
   "source": []
  },
  {
   "cell_type": "code",
   "execution_count": null,
   "id": "30ce6f49",
   "metadata": {},
   "outputs": [],
   "source": []
  },
  {
   "cell_type": "code",
   "execution_count": null,
   "id": "2f574608",
   "metadata": {},
   "outputs": [],
   "source": []
  }
 ],
 "metadata": {
  "kernelspec": {
   "display_name": "Python 3 (ipykernel)",
   "language": "python",
   "name": "python3"
  },
  "language_info": {
   "codemirror_mode": {
    "name": "ipython",
    "version": 3
   },
   "file_extension": ".py",
   "mimetype": "text/x-python",
   "name": "python",
   "nbconvert_exporter": "python",
   "pygments_lexer": "ipython3",
   "version": "3.9.13"
  }
 },
 "nbformat": 4,
 "nbformat_minor": 5
}
