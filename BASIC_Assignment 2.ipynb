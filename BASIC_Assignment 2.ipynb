{
 "cells": [
  {
   "cell_type": "markdown",
   "id": "e89d1688",
   "metadata": {},
   "source": [
    "# NOV 21 BACTH BASIC PYTON ASSIGNMENT 2"
   ]
  },
  {
   "cell_type": "code",
   "execution_count": null,
   "id": "74146110",
   "metadata": {},
   "outputs": [],
   "source": [
    "ANS 1:True and False "
   ]
  },
  {
   "cell_type": "code",
   "execution_count": null,
   "id": "a957e416",
   "metadata": {},
   "outputs": [],
   "source": [
    "ANS 2:AND ,OR, NOT "
   ]
  },
  {
   "cell_type": "code",
   "execution_count": null,
   "id": "295e3f05",
   "metadata": {},
   "outputs": [],
   "source": [
    "ANS 3: AND operator it is very easy if both the values are true then only output it is true otherwise false.\n",
    "    OR operator is also very easy if any one value is true then output is true othewise false.\n",
    "    not is opposite of evalution if evalution is ture then optput will be false and vice versa\n",
    "    \n",
    "    "
   ]
  },
  {
   "cell_type": "markdown",
   "id": "21945a8b",
   "metadata": {},
   "source": [
    "ANS 4:\n",
    "(5 > 4) and (3 == 5)=False\n",
    "not (5 > 4)=False\n",
    "(5 > 4) or (3 == 5)=True\n",
    "not ((5 > 4) or (3 == 5))=False\n",
    "(True and True) and (True == False)\n",
    "(not False) or (not True)=True\n"
   ]
  },
  {
   "cell_type": "code",
   "execution_count": null,
   "id": "469c9589",
   "metadata": {},
   "outputs": [],
   "source": [
    "ANS 5:==, >,<, >=, <=, !="
   ]
  },
  {
   "cell_type": "code",
   "execution_count": null,
   "id": "4e60e188",
   "metadata": {},
   "outputs": [],
   "source": [
    "ANS 6:equal to operator is represented by '==', while the assignment operator is represented by '='. \n",
    "    The equal to operator is used to compare two values for equality, while \n",
    "    the assignment operator is used to assign a value to a variable"
   ]
  },
  {
   "cell_type": "markdown",
   "id": "4cdd6a1c",
   "metadata": {},
   "source": [
    "# ANS 7:\n",
    "The first block :\n",
    "    spam = 0\n",
    "\n",
    "second block :\n",
    "        \n",
    "    if spam == 10:\n",
    "    print('eggs')\n",
    "    if spam > 5:\n",
    "    print('bacon')\n",
    "    \n",
    "third block:\n",
    "    else:\n",
    "    print('ham')\n",
    "    print('spam')\n",
    "    print('spam')"
   ]
  },
  {
   "cell_type": "markdown",
   "id": "da51ffdb",
   "metadata": {},
   "source": [
    "ANS:8\n",
    "spam=3\n",
    "\n",
    "if spam == 1:\n",
    "    print(\"Hello\")\n",
    "elif spam == 2:\n",
    "    print(\"Howdy\")\n",
    "else:\n",
    "    print(\"Greetings!\")"
   ]
  },
  {
   "cell_type": "code",
   "execution_count": null,
   "id": "ff4660ee",
   "metadata": {},
   "outputs": [],
   "source": [
    "ANS 9:Select \"Interrupt\" from the drop-down menu. This sends an interrupt signal to the program, which should cause it to stop.\n",
    "    If that doesn't work, you can try clicking on the \"Kernel\" menu again and selecting \"Restart Kernel\".\n",
    "    This will terminate the current kernel and start a new one, which should stop the program\n",
    "    In extreme cases, may need to force quit Jupyter using task manager or a similar tool."
   ]
  },
  {
   "cell_type": "code",
   "execution_count": null,
   "id": "70302d19",
   "metadata": {},
   "outputs": [],
   "source": [
    "ANS 10:break is used to terminate a loop completely, while continue is used to skip the current iteration of a loop and \n",
    "    move to the next iteration"
   ]
  },
  {
   "cell_type": "code",
   "execution_count": null,
   "id": "0e896107",
   "metadata": {},
   "outputs": [],
   "source": [
    "ANS 11:In a for loop, range(10) and range(0, 10) produce the same output, which is a sequence of integers from 0 to 9 (inclusive). \n",
    "    The difference between the two is that range(10) uses a default start value of 0, \n",
    "    whereas range(0, 10) explicitly sets the start value to 0.\n",
    "    range(0, 10, 1) also produces the same sequence of integers .\n",
    "    The third argument in range(0, 10, 1) specifies the step size, which is 1 by default"
   ]
  },
  {
   "cell_type": "markdown",
   "id": "31553ce6",
   "metadata": {},
   "source": [
    "ANS 12:\n",
    "    for i in range(1, 11):\n",
    "    print(i)\n",
    "    \n",
    "    for i in range(1, 11):\n",
    "    print(i)"
   ]
  },
  {
   "cell_type": "markdown",
   "id": "2be063a1",
   "metadata": {},
   "source": [
    "ANS 13:\n",
    "    import spam\n",
    "\n",
    "    spam.bacon()"
   ]
  },
  {
   "cell_type": "code",
   "execution_count": null,
   "id": "3d3f6b7f",
   "metadata": {},
   "outputs": [],
   "source": []
  }
 ],
 "metadata": {
  "kernelspec": {
   "display_name": "Python 3 (ipykernel)",
   "language": "python",
   "name": "python3"
  },
  "language_info": {
   "codemirror_mode": {
    "name": "ipython",
    "version": 3
   },
   "file_extension": ".py",
   "mimetype": "text/x-python",
   "name": "python",
   "nbconvert_exporter": "python",
   "pygments_lexer": "ipython3",
   "version": "3.9.13"
  }
 },
 "nbformat": 4,
 "nbformat_minor": 5
}
